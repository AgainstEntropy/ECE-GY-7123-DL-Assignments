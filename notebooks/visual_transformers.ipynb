{
  "nbformat": 4,
  "nbformat_minor": 0,
  "metadata": {
    "colab": {
      "provenance": [],
      "include_colab_link": true
    },
    "kernelspec": {
      "name": "python3",
      "display_name": "Python 3"
    },
    "language_info": {
      "name": "python"
    },
    "accelerator": "GPU"
  },
  "cells": [
    {
      "cell_type": "markdown",
      "metadata": {
        "id": "view-in-github",
        "colab_type": "text"
      },
      "source": [
        "<a href=\"https://colab.research.google.com/github/AgainstEntropy/ECE-GY-7123-DL-Assignments/blob/main/notebooks/visual_transformers.ipynb\" target=\"_parent\"><img src=\"https://colab.research.google.com/assets/colab-badge.svg\" alt=\"Open In Colab\"/></a>"
      ]
    },
    {
      "cell_type": "markdown",
      "metadata": {
        "id": "eR3X8KNXVkGj"
      },
      "source": [
        "\n",
        "# Transformers in Computer Vision\n",
        "\n",
        "\n",
        "\n",
        "Transformer architectures owe their origins in natural language processing (NLP), and indeed form the core of the current state of the art models for most NLP applications.\n",
        "\n",
        "We will now see how to develop transformers for processing image data (and in fact, this line of deep learning research has been gaining a lot of attention in 2021). The *Vision Transformer* (ViT) introduced in [this paper](https://arxiv.org/pdf/2010.11929.pdf) shows how standard transformer architectures can perform very well on image. The high level idea is to extract patches from images, treat them as tokens, and pass them through a sequence of transformer blocks before throwing on a couple of dense classification layers at the very end.\n",
        "\n",
        "\n",
        "Some caveats to keep in mind:\n",
        "- ViT models are very cumbersome to train (since they involve a ton of parameters) so budget accordingly.\n",
        "- ViT models are a bit hard to interpret (even more so than regular convnets).\n",
        "- Finally, while in this notebook we will train a transformer from scratch, ViT models in practice are almost always *pre-trained* on some large dataset (such as ImageNet) before being transferred onto specific training datasets.\n",
        "\n",
        "\n",
        "\n"
      ]
    },
    {
      "cell_type": "markdown",
      "metadata": {
        "id": "U1m4W8BCYCG_"
      },
      "source": [
        "# Setup\n",
        "\n",
        "As usual, we start with basic data loading and preprocessing."
      ]
    },
    {
      "cell_type": "code",
      "metadata": {
        "colab": {
          "base_uri": "https://localhost:8080/"
        },
        "id": "GcX3S4xjEoGD",
        "outputId": "24a1f68e-9494-4f7a-b9c8-ebb5843d9bc1"
      },
      "source": [
        "!pip install einops"
      ],
      "execution_count": null,
      "outputs": [
        {
          "output_type": "stream",
          "name": "stdout",
          "text": [
            "Collecting einops\n",
            "  Downloading einops-0.7.0-py3-none-any.whl (44 kB)\n",
            "\u001b[?25l     \u001b[90m━━━━━━━━━━━━━━━━━━━━━━━━━━━━━━━━━━━━━━━━\u001b[0m \u001b[32m0.0/44.6 kB\u001b[0m \u001b[31m?\u001b[0m eta \u001b[36m-:--:--\u001b[0m\r\u001b[2K     \u001b[91m━━━━━━━━━━━━━━━━━━━━━━━━━━━━━━━━━━━━\u001b[0m\u001b[91m╸\u001b[0m\u001b[90m━━━\u001b[0m \u001b[32m41.0/44.6 kB\u001b[0m \u001b[31m1.1 MB/s\u001b[0m eta \u001b[36m0:00:01\u001b[0m\r\u001b[2K     \u001b[90m━━━━━━━━━━━━━━━━━━━━━━━━━━━━━━━━━━━━━━━━\u001b[0m \u001b[32m44.6/44.6 kB\u001b[0m \u001b[31m810.1 kB/s\u001b[0m eta \u001b[36m0:00:00\u001b[0m\n",
            "\u001b[?25hInstalling collected packages: einops\n",
            "Successfully installed einops-0.7.0\n"
          ]
        }
      ]
    },
    {
      "cell_type": "code",
      "metadata": {
        "id": "Gk0KHIjUDRSH"
      },
      "source": [
        "import torch\n",
        "from torch import nn\n",
        "from torch import nn, einsum\n",
        "import torch.nn.functional as F\n",
        "from torch import optim\n",
        "\n",
        "from einops import rearrange, repeat\n",
        "from einops.layers.torch import Rearrange\n",
        "import numpy as np\n",
        "import torchvision\n",
        "from torchvision import transforms\n",
        "import time"
      ],
      "execution_count": null,
      "outputs": []
    },
    {
      "cell_type": "code",
      "metadata": {
        "id": "tL2k3L-mDkDR",
        "colab": {
          "base_uri": "https://localhost:8080/"
        },
        "outputId": "e19122ce-9424-43c5-93af-0a177a0bbeb6"
      },
      "source": [
        "torch.manual_seed(42)\n",
        "\n",
        "DOWNLOAD_PATH = './FashionMNIST/'\n",
        "BATCH_SIZE_TRAIN = 100\n",
        "BATCH_SIZE_TEST = 1000\n",
        "\n",
        "MEAN = 0.2859\n",
        "STD = 0.3530\n",
        "\n",
        "train_set = torchvision.datasets.FashionMNIST(DOWNLOAD_PATH, train=True, download=True,\n",
        "                                              transform=transforms.Compose([\n",
        "                                                  transforms.ToTensor(),\n",
        "                                                  transforms.Normalize(MEAN, STD)\n",
        "                                                  ])\n",
        "                                              )\n",
        "test_set = torchvision.datasets.FashionMNIST(DOWNLOAD_PATH,train=False,download=True,\n",
        "                                             transform=transforms.Compose([\n",
        "                                                  transforms.ToTensor(),\n",
        "                                                  transforms.Normalize(MEAN, STD)\n",
        "                                                  ])\n",
        "                                              )\n",
        "\n",
        "train_loader = torch.utils.data.DataLoader(train_set, batch_size=BATCH_SIZE_TRAIN, shuffle=True, drop_last=True)\n",
        "test_loader = torch.utils.data.DataLoader(test_set, batch_size=BATCH_SIZE_TEST, shuffle=False)\n",
        "\n",
        "device = \"cuda\" if torch.cuda.is_available() else \"cpu\"\n",
        "print(f\"using device: {device}\")"
      ],
      "execution_count": null,
      "outputs": [
        {
          "output_type": "stream",
          "name": "stdout",
          "text": [
            "using device: cuda\n"
          ]
        }
      ]
    },
    {
      "cell_type": "markdown",
      "metadata": {
        "id": "U3Zi6xFSbU5M"
      },
      "source": [
        "# The ViT Model\n",
        "\n"
      ]
    },
    {
      "cell_type": "markdown",
      "metadata": {
        "id": "HNkMNRs4c4Ja"
      },
      "source": [
        "We will now set up the ViT model. There will be 3 parts to this model:\n",
        "\n",
        "* A ``patch embedding'' layer that takes an image and tokenizes it. There is some amount of tensor algebra involved here (since we have to slice and dice the input appropriately), and the `einops` package is helpful. We will also add learnable positional encodings as parameters.\n",
        "* A sequence of transformer blocks. This will be a smaller scale replica of the original proposed ViT, except that we will only use 4 blocks in our model (instead of 32 in the actual ViT).\n",
        "* A (dense) classification layer at the end.\n",
        "\n",
        "Further, each transformer block consists of the following components:\n",
        "\n",
        "* A *self-attention* layer with $H$ heads,\n",
        "* A one-hidden-layer (dense) network to collapse the various heads. For the hidden neurons, the original ViT used something called a [GeLU](https://arxiv.org/pdf/1606.08415.pdf) activation function, which is a smooth approximation to the ReLU. For our example, regular ReLUs seem to be working just fine. The original ViT also used Dropout but we won't need it here.\n",
        "* *layer normalization* preceeding each of the above operations.\n",
        "\n",
        "Some care needs to be taken in making sure the various dimensions of the tensors are matched."
      ]
    },
    {
      "cell_type": "code",
      "metadata": {
        "id": "YAuZ2Nm_DXCB"
      },
      "source": [
        "def pair(t):\n",
        "    return t if isinstance(t, tuple) else (t, t)\n",
        "\n",
        "# classes\n",
        "\n",
        "class PreNorm(nn.Module):\n",
        "    def __init__(self, dim, fn):\n",
        "        super().__init__()\n",
        "        self.norm = nn.LayerNorm(dim)\n",
        "        self.fn = fn\n",
        "    def forward(self, x, **kwargs):\n",
        "        return self.fn(self.norm(x), **kwargs)\n",
        "\n",
        "class FeedForward(nn.Module):\n",
        "    def __init__(self, dim, hidden_dim, dropout = 0.):\n",
        "        super().__init__()\n",
        "        self.net = nn.Sequential(\n",
        "            nn.Linear(dim, hidden_dim),\n",
        "            nn.ReLU(), #nn.GELU(),\n",
        "            nn.Dropout(dropout),\n",
        "            nn.Linear(hidden_dim, dim),\n",
        "            nn.Dropout(dropout)\n",
        "        )\n",
        "    def forward(self, x):\n",
        "        return self.net(x)\n",
        "\n",
        "class Attention(nn.Module):\n",
        "    def __init__(self, dim, heads = 8, dim_head = 64, dropout = 0.):\n",
        "        super().__init__()\n",
        "        inner_dim = dim_head *  heads\n",
        "        project_out = not (heads == 1 and dim_head == dim)\n",
        "\n",
        "        self.heads = heads\n",
        "        self.scale = dim_head ** -0.5\n",
        "\n",
        "        self.attend = nn.Softmax(dim = -1)\n",
        "        self.to_qkv = nn.Linear(dim, inner_dim * 3, bias = False)\n",
        "\n",
        "        self.to_out = nn.Sequential(\n",
        "            nn.Linear(inner_dim, dim),\n",
        "            nn.Dropout(dropout)\n",
        "        ) if project_out else nn.Identity()\n",
        "\n",
        "    def forward(self, x):\n",
        "        b, n, _, h = *x.shape, self.heads\n",
        "        qkv = self.to_qkv(x).chunk(3, dim = -1)\n",
        "        q, k, v = map(lambda t: rearrange(t, 'b n (h d) -> b h n d', h = h), qkv)\n",
        "\n",
        "        dots = einsum('b h i d, b h j d -> b h i j', q, k) * self.scale\n",
        "\n",
        "        attn = self.attend(dots)\n",
        "\n",
        "        out = einsum('b h i j, b h j d -> b h i d', attn, v)\n",
        "        out = rearrange(out, 'b h n d -> b n (h d)')\n",
        "        return self.to_out(out)\n",
        "\n",
        "class Transformer(nn.Module):\n",
        "    def __init__(self, dim, depth, heads, dim_head, mlp_dim, dropout = 0.):\n",
        "        super().__init__()\n",
        "        self.layers = nn.ModuleList([])\n",
        "        for _ in range(depth):\n",
        "            self.layers.append(nn.ModuleList([\n",
        "                PreNorm(dim, Attention(dim, heads = heads, dim_head = dim_head, dropout = dropout)),\n",
        "                PreNorm(dim, FeedForward(dim, mlp_dim, dropout = dropout))\n",
        "            ]))\n",
        "    def forward(self, x):\n",
        "        for attn, ff in self.layers:\n",
        "            x = attn(x) + x\n",
        "            x = ff(x) + x\n",
        "        return x\n",
        "\n",
        "class ViT(nn.Module):\n",
        "    def __init__(self, *, image_size, patch_size, num_classes, dim, depth, heads, mlp_dim, pool = 'cls', channels = 3, dim_head = 64, dropout = 0., emb_dropout = 0.):\n",
        "        super().__init__()\n",
        "        image_height, image_width = pair(image_size)\n",
        "        patch_height, patch_width = pair(patch_size)\n",
        "\n",
        "        assert image_height % patch_height == 0 and image_width % patch_width == 0, 'Image dimensions must be divisible by the patch size.'\n",
        "\n",
        "        num_patches = (image_height // patch_height) * (image_width // patch_width)\n",
        "        patch_dim = channels * patch_height * patch_width\n",
        "        assert pool in {'cls', 'mean'}, 'pool type must be either cls (cls token) or mean (mean pooling)'\n",
        "\n",
        "        self.to_patch_embedding = nn.Sequential(\n",
        "            Rearrange('b c (h p1) (w p2) -> b (h w) (p1 p2 c)', p1 = patch_height, p2 = patch_width),\n",
        "            nn.Linear(patch_dim, dim),\n",
        "        )\n",
        "\n",
        "        self.pos_embedding = nn.Parameter(torch.randn(1, num_patches + 1, dim))\n",
        "        self.cls_token = nn.Parameter(torch.randn(1, 1, dim))\n",
        "        self.dropout = nn.Dropout(emb_dropout)\n",
        "\n",
        "        self.transformer = Transformer(dim, depth, heads, dim_head, mlp_dim, dropout)\n",
        "\n",
        "        self.pool = pool\n",
        "        self.to_latent = nn.Identity()\n",
        "\n",
        "        self.mlp_head = nn.Sequential(\n",
        "            nn.LayerNorm(dim),\n",
        "            nn.Linear(dim, num_classes)\n",
        "        )\n",
        "\n",
        "    def forward(self, img):\n",
        "        x = self.to_patch_embedding(img)\n",
        "        b, n, _ = x.shape\n",
        "\n",
        "        cls_tokens = repeat(self.cls_token, '() n d -> b n d', b = b)\n",
        "        x = torch.cat((cls_tokens, x), dim=1)\n",
        "        x += self.pos_embedding[:, :(n + 1)]\n",
        "        x = self.dropout(x)\n",
        "\n",
        "        x = self.transformer(x)\n",
        "\n",
        "        x = x.mean(dim = 1) if self.pool == 'mean' else x[:, 0]\n",
        "\n",
        "        x = self.to_latent(x)\n",
        "        return self.mlp_head(x)"
      ],
      "execution_count": null,
      "outputs": []
    },
    {
      "cell_type": "code",
      "metadata": {
        "id": "7vD4p1EyWHbD"
      },
      "source": [
        "model = ViT(image_size=28, patch_size=4, num_classes=10, channels=1, dim=64, depth=6, heads=4, mlp_dim=128)\n",
        "model = model.to(device)\n",
        "optimizer = optim.Adam(model.parameters(), lr=0.001)"
      ],
      "execution_count": null,
      "outputs": []
    },
    {
      "cell_type": "markdown",
      "metadata": {
        "id": "aK7gfKWm0ggw"
      },
      "source": [
        "Let's see how the model looks like."
      ]
    },
    {
      "cell_type": "code",
      "metadata": {
        "id": "riukWYK5WIkB",
        "colab": {
          "base_uri": "https://localhost:8080/"
        },
        "outputId": "05b84063-1fd3-4bef-a860-5b0b3a9030cf"
      },
      "source": [
        "model"
      ],
      "execution_count": null,
      "outputs": [
        {
          "output_type": "execute_result",
          "data": {
            "text/plain": [
              "ViT(\n",
              "  (to_patch_embedding): Sequential(\n",
              "    (0): Rearrange('b c (h p1) (w p2) -> b (h w) (p1 p2 c)', p1=4, p2=4)\n",
              "    (1): Linear(in_features=16, out_features=64, bias=True)\n",
              "  )\n",
              "  (dropout): Dropout(p=0.0, inplace=False)\n",
              "  (transformer): Transformer(\n",
              "    (layers): ModuleList(\n",
              "      (0-5): 6 x ModuleList(\n",
              "        (0): PreNorm(\n",
              "          (norm): LayerNorm((64,), eps=1e-05, elementwise_affine=True)\n",
              "          (fn): Attention(\n",
              "            (attend): Softmax(dim=-1)\n",
              "            (to_qkv): Linear(in_features=64, out_features=768, bias=False)\n",
              "            (to_out): Sequential(\n",
              "              (0): Linear(in_features=256, out_features=64, bias=True)\n",
              "              (1): Dropout(p=0.0, inplace=False)\n",
              "            )\n",
              "          )\n",
              "        )\n",
              "        (1): PreNorm(\n",
              "          (norm): LayerNorm((64,), eps=1e-05, elementwise_affine=True)\n",
              "          (fn): FeedForward(\n",
              "            (net): Sequential(\n",
              "              (0): Linear(in_features=64, out_features=128, bias=True)\n",
              "              (1): ReLU()\n",
              "              (2): Dropout(p=0.0, inplace=False)\n",
              "              (3): Linear(in_features=128, out_features=64, bias=True)\n",
              "              (4): Dropout(p=0.0, inplace=False)\n",
              "            )\n",
              "          )\n",
              "        )\n",
              "      )\n",
              "    )\n",
              "  )\n",
              "  (to_latent): Identity()\n",
              "  (mlp_head): Sequential(\n",
              "    (0): LayerNorm((64,), eps=1e-05, elementwise_affine=True)\n",
              "    (1): Linear(in_features=64, out_features=10, bias=True)\n",
              "  )\n",
              ")"
            ]
          },
          "metadata": {},
          "execution_count": 46
        }
      ]
    },
    {
      "cell_type": "markdown",
      "metadata": {
        "id": "Wo5XbEtJbtiG"
      },
      "source": [
        "This is it -- 4 transformer blocks, followed by a linear classification layer. Let us quickly see how many trainable parameters are present in this model."
      ]
    },
    {
      "cell_type": "code",
      "metadata": {
        "colab": {
          "base_uri": "https://localhost:8080/"
        },
        "id": "aTN9-kFMbdXn",
        "outputId": "02e35a6d-69a5-401b-ef66-c574e1007236"
      },
      "source": [
        "def count_parameters(model):\n",
        "    return sum(p.numel() for p in model.parameters() if p.requires_grad)\n",
        "\n",
        "print(count_parameters(model))"
      ],
      "execution_count": null,
      "outputs": [
        {
          "output_type": "stream",
          "name": "stdout",
          "text": [
            "499722\n"
          ]
        }
      ]
    },
    {
      "cell_type": "markdown",
      "metadata": {
        "id": "UgSVq3NqcKT3"
      },
      "source": [
        "About half a million. Not too bad; the bigger NLP type models have several tens of millions of parameters. But since we are training on MNIST this should be more than sufficient."
      ]
    },
    {
      "cell_type": "markdown",
      "metadata": {
        "id": "5mnUt-GXYYv3"
      },
      "source": [
        "# Training and testing\n",
        "\n",
        "All done! We can now train the ViT model. The following again is boilerplate code.\n"
      ]
    },
    {
      "cell_type": "code",
      "metadata": {
        "id": "OXxnADQNDpgA"
      },
      "source": [
        "def train_epoch(model, optimizer, data_loader):\n",
        "    total_samples = len(data_loader.dataset)\n",
        "    model.train()\n",
        "\n",
        "    correct_samples = 0\n",
        "    total_loss = 0\n",
        "\n",
        "    for i, (data, target) in enumerate(data_loader):\n",
        "        data = data.to(device)\n",
        "        target = target.to(device)\n",
        "        optimizer.zero_grad()\n",
        "        output = F.log_softmax(model(data), dim=1)\n",
        "        loss = F.nll_loss(output, target)\n",
        "        loss.backward()\n",
        "        optimizer.step()\n",
        "\n",
        "        _, pred = torch.max(output, dim=1)\n",
        "        total_loss += loss.item()\n",
        "        correct_samples += pred.eq(target).sum().item()\n",
        "\n",
        "        if i % 100 == 0:\n",
        "            print('[' +  '{:5}'.format(i * len(data)) + '/' + '{:5}'.format(total_samples) +\n",
        "                  ' (' + '{:3.0f}'.format(100 * i / len(data_loader)) + '%)]  Loss: ' +\n",
        "                  '{:6.4f}'.format(loss.item()))\n",
        "\n",
        "    avg_loss = total_loss / total_samples\n",
        "    avg_acc = correct_samples / total_samples\n",
        "\n",
        "    print('\\nAverage Train loss: ' + '{:.4f}'.format(avg_loss) +\n",
        "          '  Accuracy:' + '{:5}'.format(correct_samples) + '/' +\n",
        "          '{:5}'.format(total_samples) + ' (' +\n",
        "          '{:4.2f}'.format(100.0 * avg_acc) + '%)\\n')\n",
        "\n",
        "    return avg_loss, avg_acc"
      ],
      "execution_count": null,
      "outputs": []
    },
    {
      "cell_type": "code",
      "metadata": {
        "id": "Moywc015DrAg"
      },
      "source": [
        "def evaluate(model, data_loader):\n",
        "    model.eval()\n",
        "\n",
        "    total_samples = len(data_loader.dataset)\n",
        "    correct_samples = 0\n",
        "    total_loss = 0\n",
        "\n",
        "    with torch.no_grad():\n",
        "        for data, target in data_loader:\n",
        "            data = data.to(device)\n",
        "            target = target.to(device)\n",
        "            output = F.log_softmax(model(data), dim=1)\n",
        "            loss = F.nll_loss(output, target, reduction='sum')\n",
        "            _, pred = torch.max(output, dim=1)\n",
        "\n",
        "            total_loss += loss.item()\n",
        "            correct_samples += pred.eq(target).sum().item()\n",
        "\n",
        "    avg_loss = total_loss / total_samples\n",
        "    avg_acc = correct_samples / total_samples\n",
        "\n",
        "    print('\\nAverage test loss: ' + '{:.4f}'.format(avg_loss) +\n",
        "          '  Accuracy:' + '{:5}'.format(correct_samples) + '/' +\n",
        "          '{:5}'.format(total_samples) + ' (' +\n",
        "          '{:4.2f}'.format(100.0 * avg_acc) + '%)\\n')\n",
        "\n",
        "    return avg_loss, avg_acc"
      ],
      "execution_count": null,
      "outputs": []
    },
    {
      "cell_type": "markdown",
      "metadata": {
        "id": "YbCf2V--cohk"
      },
      "source": [
        "\n",
        "The following will take a bit of time (on CPU).  Each epoch should take about 2 to 3 minutes. At the end of training, we should see upwards of 95% test accuracy."
      ]
    },
    {
      "cell_type": "code",
      "source": [
        "train_loss_history, test_loss_history = [], []\n",
        "train_accuracy_history, test_accuracy_history = [], []"
      ],
      "metadata": {
        "id": "uT4xf_QcCTJD"
      },
      "execution_count": null,
      "outputs": []
    },
    {
      "cell_type": "code",
      "metadata": {
        "colab": {
          "base_uri": "https://localhost:8080/"
        },
        "id": "5d0Hb-TKDwbA",
        "outputId": "af1aa828-8e7f-4dd1-c646-e7a027a685c8"
      },
      "source": [
        "N_EPOCHS = 10\n",
        "\n",
        "start_time = time.time()\n",
        "\n",
        "for epoch in range(1, N_EPOCHS + 1):\n",
        "    print('Epoch:', epoch)\n",
        "\n",
        "    train_loss, train_acc = train_epoch(model, optimizer, train_loader)\n",
        "    train_loss_history.append(train_loss)\n",
        "    train_accuracy_history.append(train_acc)\n",
        "\n",
        "    test_loss, test_acc = evaluate(model, test_loader)\n",
        "    test_loss_history.append(test_loss)\n",
        "    test_accuracy_history.append(test_acc)\n",
        "\n",
        "print('Execution time:', '{:5.2f}'.format(time.time() - start_time), 'seconds')"
      ],
      "execution_count": null,
      "outputs": [
        {
          "output_type": "stream",
          "name": "stdout",
          "text": [
            "Epoch: 1\n",
            "[    0/60000 (  0%)]  Loss: 0.2103\n",
            "[10000/60000 ( 17%)]  Loss: 0.2356\n",
            "[20000/60000 ( 33%)]  Loss: 0.2608\n",
            "[30000/60000 ( 50%)]  Loss: 0.3043\n",
            "[40000/60000 ( 67%)]  Loss: 0.1318\n",
            "[50000/60000 ( 83%)]  Loss: 0.2040\n",
            "\n",
            "Average Train loss: 0.0023  Accuracy:54780/60000 (91.30%)\n",
            "\n",
            "\n",
            "Average test loss: 0.3505  Accuracy: 8783/10000 (87.83%)\n",
            "\n",
            "Epoch: 2\n",
            "[    0/60000 (  0%)]  Loss: 0.2873\n",
            "[10000/60000 ( 17%)]  Loss: 0.1793\n",
            "[20000/60000 ( 33%)]  Loss: 0.1506\n",
            "[30000/60000 ( 50%)]  Loss: 0.3065\n",
            "[40000/60000 ( 67%)]  Loss: 0.1295\n",
            "[50000/60000 ( 83%)]  Loss: 0.2192\n",
            "\n",
            "Average Train loss: 0.0022  Accuracy:55021/60000 (91.70%)\n",
            "\n",
            "\n",
            "Average test loss: 0.3234  Accuracy: 8834/10000 (88.34%)\n",
            "\n",
            "Epoch: 3\n",
            "[    0/60000 (  0%)]  Loss: 0.1695\n",
            "[10000/60000 ( 17%)]  Loss: 0.2771\n",
            "[20000/60000 ( 33%)]  Loss: 0.2481\n",
            "[30000/60000 ( 50%)]  Loss: 0.2434\n",
            "[40000/60000 ( 67%)]  Loss: 0.1896\n",
            "[50000/60000 ( 83%)]  Loss: 0.1890\n",
            "\n",
            "Average Train loss: 0.0021  Accuracy:55089/60000 (91.81%)\n",
            "\n",
            "\n",
            "Average test loss: 0.3250  Accuracy: 8840/10000 (88.40%)\n",
            "\n",
            "Epoch: 4\n",
            "[    0/60000 (  0%)]  Loss: 0.3145\n",
            "[10000/60000 ( 17%)]  Loss: 0.0824\n",
            "[20000/60000 ( 33%)]  Loss: 0.1752\n",
            "[30000/60000 ( 50%)]  Loss: 0.1428\n",
            "[40000/60000 ( 67%)]  Loss: 0.2214\n",
            "[50000/60000 ( 83%)]  Loss: 0.2323\n",
            "\n",
            "Average Train loss: 0.0021  Accuracy:55337/60000 (92.23%)\n",
            "\n",
            "\n",
            "Average test loss: 0.3269  Accuracy: 8842/10000 (88.42%)\n",
            "\n",
            "Epoch: 5\n",
            "[    0/60000 (  0%)]  Loss: 0.2164\n",
            "[10000/60000 ( 17%)]  Loss: 0.1765\n",
            "[20000/60000 ( 33%)]  Loss: 0.1708\n",
            "[30000/60000 ( 50%)]  Loss: 0.1926\n",
            "[40000/60000 ( 67%)]  Loss: 0.1425\n",
            "[50000/60000 ( 83%)]  Loss: 0.2465\n",
            "\n",
            "Average Train loss: 0.0019  Accuracy:55539/60000 (92.56%)\n",
            "\n",
            "\n",
            "Average test loss: 0.3440  Accuracy: 8825/10000 (88.25%)\n",
            "\n",
            "Epoch: 6\n",
            "[    0/60000 (  0%)]  Loss: 0.0633\n",
            "[10000/60000 ( 17%)]  Loss: 0.2650\n",
            "[20000/60000 ( 33%)]  Loss: 0.2654\n",
            "[30000/60000 ( 50%)]  Loss: 0.2295\n",
            "[40000/60000 ( 67%)]  Loss: 0.2104\n",
            "[50000/60000 ( 83%)]  Loss: 0.2180\n",
            "\n",
            "Average Train loss: 0.0019  Accuracy:55708/60000 (92.85%)\n",
            "\n",
            "\n",
            "Average test loss: 0.3333  Accuracy: 8849/10000 (88.49%)\n",
            "\n",
            "Epoch: 7\n",
            "[    0/60000 (  0%)]  Loss: 0.1897\n",
            "[10000/60000 ( 17%)]  Loss: 0.1894\n",
            "[20000/60000 ( 33%)]  Loss: 0.1721\n",
            "[30000/60000 ( 50%)]  Loss: 0.1783\n",
            "[40000/60000 ( 67%)]  Loss: 0.1050\n",
            "[50000/60000 ( 83%)]  Loss: 0.1133\n",
            "\n",
            "Average Train loss: 0.0018  Accuracy:55935/60000 (93.23%)\n",
            "\n",
            "\n",
            "Average test loss: 0.3349  Accuracy: 8847/10000 (88.47%)\n",
            "\n",
            "Epoch: 8\n",
            "[    0/60000 (  0%)]  Loss: 0.1885\n",
            "[10000/60000 ( 17%)]  Loss: 0.1619\n",
            "[20000/60000 ( 33%)]  Loss: 0.2198\n",
            "[30000/60000 ( 50%)]  Loss: 0.1944\n",
            "[40000/60000 ( 67%)]  Loss: 0.1381\n",
            "[50000/60000 ( 83%)]  Loss: 0.1569\n",
            "\n",
            "Average Train loss: 0.0017  Accuracy:56034/60000 (93.39%)\n",
            "\n",
            "\n",
            "Average test loss: 0.3255  Accuracy: 8893/10000 (88.93%)\n",
            "\n",
            "Epoch: 9\n",
            "[    0/60000 (  0%)]  Loss: 0.0705\n",
            "[10000/60000 ( 17%)]  Loss: 0.1213\n",
            "[20000/60000 ( 33%)]  Loss: 0.0881\n",
            "[30000/60000 ( 50%)]  Loss: 0.1153\n",
            "[40000/60000 ( 67%)]  Loss: 0.2407\n",
            "[50000/60000 ( 83%)]  Loss: 0.2515\n",
            "\n",
            "Average Train loss: 0.0017  Accuracy:56263/60000 (93.77%)\n",
            "\n",
            "\n",
            "Average test loss: 0.3440  Accuracy: 8868/10000 (88.68%)\n",
            "\n",
            "Epoch: 10\n",
            "[    0/60000 (  0%)]  Loss: 0.1158\n",
            "[10000/60000 ( 17%)]  Loss: 0.1467\n",
            "[20000/60000 ( 33%)]  Loss: 0.2485\n",
            "[30000/60000 ( 50%)]  Loss: 0.1646\n",
            "[40000/60000 ( 67%)]  Loss: 0.1613\n",
            "[50000/60000 ( 83%)]  Loss: 0.0688\n",
            "\n",
            "Average Train loss: 0.0015  Accuracy:56465/60000 (94.11%)\n",
            "\n",
            "\n",
            "Average test loss: 0.3399  Accuracy: 8870/10000 (88.70%)\n",
            "\n",
            "Execution time: 247.81 seconds\n"
          ]
        }
      ]
    },
    {
      "cell_type": "code",
      "source": [
        "import matplotlib.pyplot as plt\n",
        "%matplotlib inline\n",
        "\n",
        "fig, axes = plt.subplots(1, 2, figsize=(12, 5))\n",
        "\n",
        "axes[0].plot(train_loss_history, '-', linewidth=2, label='Train')\n",
        "axes[0].plot(test_loss_history, '-', linewidth=2, label='Test')\n",
        "axes[0].set_xlabel('epoch')\n",
        "axes[0].set_ylabel('loss')\n",
        "axes[0].grid(True)\n",
        "axes[0].legend()\n",
        "axes[0].set_yscale('log')\n",
        "\n",
        "def maybe_transform(history):\n",
        "    new = []\n",
        "    for item in history:\n",
        "        if isinstance(item, torch.Tensor):\n",
        "            new.append(item.item())\n",
        "        else:\n",
        "            new.append(item)\n",
        "    return new\n",
        "\n",
        "axes[1].plot(maybe_transform(train_accuracy_history), '-', linewidth=2, label='Train')\n",
        "axes[1].plot(maybe_transform(test_accuracy_history), '-', linewidth=2, label='Test')\n",
        "axes[1].set_xlabel('epoch')\n",
        "axes[1].set_ylabel('accuracy')\n",
        "axes[1].grid(True)\n",
        "axes[1].legend()\n",
        "\n",
        "plt.show()"
      ],
      "metadata": {
        "colab": {
          "base_uri": "https://localhost:8080/",
          "height": 465
        },
        "id": "e03aKY81Beaq",
        "outputId": "a7ecfae7-d216-4d3d-cb8d-7c58629869b6"
      },
      "execution_count": null,
      "outputs": [
        {
          "output_type": "display_data",
          "data": {
            "text/plain": [
              "<Figure size 1200x500 with 2 Axes>"
            ],
            "image/png": "[encoded data removed]"
          },
          "metadata": {}
        }
      ]
    },
    {
      "cell_type": "code",
      "source": [
        "import random\n",
        "\n",
        "test_images = []\n",
        "test_labels = []\n",
        "random_indexes = [random.randrange(len(test_set)) for _ in range(3)]\n",
        "\n",
        "for idx in random_indexes:\n",
        "    image, label = test_set[idx]\n",
        "    test_images.append(image)\n",
        "    test_labels.append(label)\n",
        "print(random_indexes)\n",
        "print(test_labels)"
      ],
      "metadata": {
        "colab": {
          "base_uri": "https://localhost:8080/"
        },
        "id": "lO1cVWYsCcJ0",
        "outputId": "e426d2f1-19b8-42ce-a4c3-3d91ee1e931f"
      },
      "execution_count": null,
      "outputs": [
        {
          "output_type": "stream",
          "name": "stdout",
          "text": [
            "[8716, 540, 6542]\n",
            "[3, 4, 0]\n"
          ]
        }
      ]
    },
    {
      "cell_type": "code",
      "source": [
        "model.eval()\n",
        "\n",
        "test_images_inp = torch.stack(test_images, 0).cuda()\n",
        "logits = model(test_images_inp).cpu().detach()\n",
        "probs = logits.softmax(dim=-1)\n",
        "preds = probs.max(-1)[1]\n",
        "\n",
        "print('Predicted:', preds.numpy())"
      ],
      "metadata": {
        "colab": {
          "base_uri": "https://localhost:8080/"
        },
        "id": "vqgxfL0dCdIN",
        "outputId": "bcc55578-847b-43b7-fa8a-f2504b432e06"
      },
      "execution_count": null,
      "outputs": [
        {
          "output_type": "stream",
          "name": "stdout",
          "text": [
            "Predicted: [3 4 6]\n"
          ]
        }
      ]
    },
    {
      "cell_type": "code",
      "source": [
        "fig, axes = plt.subplots(2, 3, layout='constrained')\n",
        "\n",
        "for i in range(3):\n",
        "    axes[0, i].imshow(test_images[i].squeeze().cpu(), cmap=plt.cm.gray)\n",
        "    axes[0, i].set_title(f'Pred: {preds[i]}, True: {test_labels[i]}')\n",
        "    axes[0, i].set_xticks([])\n",
        "    axes[0, i].set_yticks([])\n",
        "\n",
        "    axes[1, i].bar(range(10), probs[i])\n",
        "    axes[1, i].set_xticks(range(10))\n",
        "    axes[1, i].set_ylim(0, 1.05)"
      ],
      "metadata": {
        "colab": {
          "base_uri": "https://localhost:8080/",
          "height": 507
        },
        "id": "yr_GXaIBCePD",
        "outputId": "da62d0b6-3028-4e8e-ea5f-e729aeb5f60c"
      },
      "execution_count": null,
      "outputs": [
        {
          "output_type": "display_data",
          "data": {
            "text/plain": [
              "<Figure size 640x480 with 6 Axes>"
            ],
            "image/png": "[encoded data removed]"
          },
          "metadata": {}
        }
      ]
    }
  ]
}